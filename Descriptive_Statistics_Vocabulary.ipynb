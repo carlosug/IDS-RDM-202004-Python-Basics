{
  "nbformat": 4,
  "nbformat_minor": 0,
  "metadata": {
    "colab": {
      "name": "Descriptive Statistics Vocabulary.ipynb",
      "provenance": []
    },
    "kernelspec": {
      "name": "python3",
      "display_name": "Python 3"
    }
  },
  "cells": [
    {
      "cell_type": "markdown",
      "metadata": {
        "id": "YOK1I739fLw9"
      },
      "source": [
        "# Intro\n",
        "\n",
        "This course covers the essential Python skills you'll need so you can start using Python for data science. The course is ideal for someone with some previous coding experience who wants to level up their Python skills.\n",
        "\n",
        "If you are a first-time coder, you may want to check out these [\"Python for non-programmers\"](https://wiki.python.org/moin/BeginnersGuide/NonProgrammers) learning resources.\n"
      ]
    },
    {
      "cell_type": "markdown",
      "metadata": {
        "id": "_qhJofHLRVqN"
      },
      "source": [
        "## Learning Objectives\n",
        "\n",
        "You will know how to:\n",
        "\n",
        "1. Calculate measures of location\n",
        "\n",
        "2. Calculate measures of dispersion\n",
        "\n",
        "3. Load and summarise a dataset by its location and dispersion\n"
      ]
    },
    {
      "cell_type": "markdown",
      "metadata": {
        "id": "2pRgoWjCZAFZ"
      },
      "source": [
        "---\n",
        "<h1>Introduction</h1>\n",
        "Using python we can calculate measures of location and dispersion in a number of ways.\n",
        "First we can calculate them manually as we did in the videos. For example the mean of the temperatures 6, 10, 9, 9, 12, 6, 2:"
      ]
    },
    {
      "cell_type": "code",
      "metadata": {
        "id": "-ePpg7KxacHu",
        "colab": {
          "base_uri": "https://localhost:8080/"
        },
        "outputId": "4792fda7-615c-4960-fa1d-6317180c1533"
      },
      "source": [
        "(6 + 10 + 9 + 9 + 12 + 6 + 2) / 7"
      ],
      "execution_count": null,
      "outputs": [
        {
          "output_type": "execute_result",
          "data": {
            "text/plain": [
              "7.714285714285714"
            ]
          },
          "metadata": {
            "tags": []
          },
          "execution_count": 1
        }
      ]
    },
    {
      "cell_type": "markdown",
      "metadata": {
        "id": "MSVFU3tXa0H2"
      },
      "source": [
        "Using a programming language like Python, we can also calculate the sum $\\sum_i x_i$ using a loop (if this seems unclear, do not worry, you don't need to know how to do this yet!):"
      ]
    },
    {
      "cell_type": "code",
      "metadata": {
        "id": "Qf7jnzfqbg9F",
        "colab": {
          "base_uri": "https://localhost:8080/"
        },
        "outputId": "9446f6e8-f63b-449d-a99e-1b1ed970efa8"
      },
      "source": [
        "sum_x = 0 # this will store the sum of all the temperatures\n",
        "\n",
        "for x_i in [6, 10, 9, 9, 12, 6, 2]: # x_i will be set to each value in the list of temperatures\n",
        "\n",
        "    sum_x = sum_x + x_i \n",
        "    print(f'x_i is equal to {x_i} and now the sum so far equals {sum_x}')\n",
        "\n",
        "print(f'To calculate the mean we divide the sum by the number of temperatures {sum_x}/7 = {sum_x/7}')"
      ],
      "execution_count": null,
      "outputs": [
        {
          "output_type": "stream",
          "text": [
            "x_i is equal to 6 and now the sum so far equals 6\n",
            "x_i is equal to 10 and now the sum so far equals 16\n",
            "x_i is equal to 9 and now the sum so far equals 25\n",
            "x_i is equal to 9 and now the sum so far equals 34\n",
            "x_i is equal to 12 and now the sum so far equals 46\n",
            "x_i is equal to 6 and now the sum so far equals 52\n",
            "x_i is equal to 2 and now the sum so far equals 54\n",
            "To calculate the mean we divide the sum by the number of temperatures 54/7 = 7.714285714285714\n"
          ],
          "name": "stdout"
        }
      ]
    },
    {
      "cell_type": "markdown",
      "metadata": {
        "id": "H0EoP_cEdt8z"
      },
      "source": [
        "However, for common functions like the mean, we do not need to write the code ourselves, but instead we can use functions from libraries such as numpy, which we will look at in this homework."
      ]
    },
    {
      "cell_type": "markdown",
      "metadata": {
        "id": "r9wdc_UyhyQr"
      },
      "source": [
        "---\n",
        "## Task 1: Getting our Wampis Global Dataset Into Python\n"
      ]
    },
    {
      "cell_type": "markdown",
      "metadata": {
        "id": "NMAzqg1klI_y"
      },
      "source": [
        "In this homework, you will load an external dataset `GlobalWampis.csv`.  See **Annex** to learn about the Wampis Global Dataset and how to load it into python.\n",
        "\n",
        "\n"
      ]
    },
    {
      "cell_type": "markdown",
      "metadata": {
        "id": "o5TKVtFAh3Pk"
      },
      "source": [
        "📚 QUESTION **A**\n",
        "#### **A.** Load the Wampis Global dataset in to a pandas Dataframe and check the **columns** and first **5 records**."
      ]
    },
    {
      "cell_type": "markdown",
      "metadata": {
        "id": "PaGMFzgNBD7i"
      },
      "source": [
        "⚡ MY ANSWER **A**"
      ]
    },
    {
      "cell_type": "code",
      "metadata": {
        "id": "YvwSh7HzA6Jl"
      },
      "source": [
        "# Insert here your code"
      ],
      "execution_count": null,
      "outputs": []
    },
    {
      "cell_type": "markdown",
      "metadata": {
        "id": "HNWm6gBlDWOH"
      },
      "source": [
        "---\n",
        "## Task 2: Understanding the Wampis Global Dataset"
      ]
    },
    {
      "cell_type": "markdown",
      "metadata": {
        "id": "CdVUDk-w4zy9"
      },
      "source": [
        "In this task, we need to calculate some statistics from the Wampis Global Dataset. \n",
        "Often when faced with data, a first step is to compute summary statistics. \n",
        "\n",
        "To do so, we use [NumPy](https://numpy.org/doc/stable/index.html). It has fast built-in aggregation functions for working on arrays. Read the following [notebook](https://colab.research.google.com/github/jakevdp/PythonDataScienceHandbook/blob/master/notebooks/02.04-Computation-on-arrays-aggregates.ipynb#scrollTo=VEcNBuCvCYM3), it will help you with the computations in python."
      ]
    },
    {
      "cell_type": "markdown",
      "metadata": {
        "id": "wdVH7wk3ivp3"
      },
      "source": [
        "📚 QUESTION **B**\n",
        "### **B.** Select a ratio variable (e.g.`height`) and calculate the following statistics:\n",
        "\n",
        "* Minimum\n",
        "* Maximum\n",
        "* 25th percentile\n",
        "* Median\n",
        "* 75th percentile\n",
        "* Mode\n",
        "* Mean (average)\n",
        "* Variance\n",
        "* Standard deviation\n"
      ]
    },
    {
      "cell_type": "markdown",
      "metadata": {
        "id": "C4i9H5ufBUHu"
      },
      "source": [
        "⚡ MY ANSWER **B**"
      ]
    },
    {
      "cell_type": "code",
      "metadata": {
        "id": "a_2_5bXj4VM6"
      },
      "source": [
        "from scipy import stats # see annex (Finding the mode with python) for further information\n",
        "\n",
        "print(\"Minimum height:    \", #insert your code here)\n",
        "print(\"Maximum height:    \", #insert your code here)\n",
        "print(\"25th percentile:   \", #insert your code here)\n",
        "print(\"Median:            \", #insert your code here)\n",
        "print(\"75th percentile:   \",  #insert your code here)\n",
        "print(\"Mode height:       \", stats.mode(df['height'])) # see annex\n",
        "print(\"Mean height:       \",  #insert your code here)\n",
        "print(\"Variance:          \",  #insert your code here)\n",
        "print(\"Standard deviation:\",  #insert your code here)"
      ],
      "execution_count": null,
      "outputs": []
    },
    {
      "cell_type": "markdown",
      "metadata": {
        "id": "ObCQY6YbjBFA"
      },
      "source": [
        "## Task 3: Visualising the Wampis Global Dataset\n",
        "\n",
        "\n",
        "\n"
      ]
    },
    {
      "cell_type": "markdown",
      "metadata": {
        "id": "DZHMUXbMFoq8"
      },
      "source": [
        "Of course, it's more useful to see a visual representation of this data, which we can accomplish using tools in `plotly.express`."
      ]
    },
    {
      "cell_type": "markdown",
      "metadata": {
        "id": "zLnRZa8QnokK"
      },
      "source": [
        "📚 QUESTION **C**\n",
        "\n",
        "###### **C.** Create a histogram to represent the variable `height`."
      ]
    },
    {
      "cell_type": "markdown",
      "metadata": {
        "id": "IWhDJZerBgkO"
      },
      "source": [
        "⚡ MY ANSWER **C**"
      ]
    },
    {
      "cell_type": "code",
      "metadata": {
        "id": "2xZoVYSe5Cm8"
      },
      "source": [
        "import plotly.express as px\n",
        "fig = px.histogram(#insert your code here)\n",
        "fig.show()"
      ],
      "execution_count": null,
      "outputs": []
    },
    {
      "cell_type": "markdown",
      "metadata": {
        "id": "Mn-oCXOTowy-"
      },
      "source": [
        "## Task 4: The importance of outliers\n",
        "\n"
      ]
    },
    {
      "cell_type": "markdown",
      "metadata": {
        "id": "Y4VEgRkZnx1b"
      },
      "source": [
        "Sometimes our data can contain outliers, which are data points that are very different to the rest of the data. For example if someone entered their `height` wrong as 1800 (instead of 180), then this error would be an outlier. Click on run the following cell code:"
      ]
    },
    {
      "cell_type": "code",
      "metadata": {
        "id": "QTjAZ21gkhCo",
        "colab": {
          "base_uri": "https://localhost:8080/",
          "height": 111
        },
        "outputId": "c0c07852-e6b5-4e6c-ede1-0390457b1eb2"
      },
      "source": [
        "# add 1800 to the df dataset\n",
        "df_outlier = df.append({'age':22, 'height': 1800}, ignore_index=True)\n",
        "# print last row of df_outlier dataset\n",
        "df_outlier.tail(2)"
      ],
      "execution_count": null,
      "outputs": [
        {
          "output_type": "execute_result",
          "data": {
            "text/html": [
              "<div>\n",
              "<style scoped>\n",
              "    .dataframe tbody tr th:only-of-type {\n",
              "        vertical-align: middle;\n",
              "    }\n",
              "\n",
              "    .dataframe tbody tr th {\n",
              "        vertical-align: top;\n",
              "    }\n",
              "\n",
              "    .dataframe thead th {\n",
              "        text-align: right;\n",
              "    }\n",
              "</style>\n",
              "<table border=\"1\" class=\"dataframe\">\n",
              "  <thead>\n",
              "    <tr style=\"text-align: right;\">\n",
              "      <th></th>\n",
              "      <th>age</th>\n",
              "      <th>gender</th>\n",
              "      <th>height</th>\n",
              "      <th>region</th>\n",
              "      <th>n.languages</th>\n",
              "      <th>happy</th>\n",
              "      <th>financial</th>\n",
              "      <th>politics</th>\n",
              "      <th>global</th>\n",
              "    </tr>\n",
              "  </thead>\n",
              "  <tbody>\n",
              "    <tr>\n",
              "      <th>699</th>\n",
              "      <td>36.0</td>\n",
              "      <td>Female</td>\n",
              "      <td>177.0</td>\n",
              "      <td>e5543</td>\n",
              "      <td>2.0</td>\n",
              "      <td>Strongly Agree</td>\n",
              "      <td>Agree</td>\n",
              "      <td>5.0</td>\n",
              "      <td>no</td>\n",
              "    </tr>\n",
              "    <tr>\n",
              "      <th>700</th>\n",
              "      <td>22.0</td>\n",
              "      <td>NaN</td>\n",
              "      <td>1800.0</td>\n",
              "      <td>NaN</td>\n",
              "      <td>NaN</td>\n",
              "      <td>NaN</td>\n",
              "      <td>NaN</td>\n",
              "      <td>NaN</td>\n",
              "      <td>NaN</td>\n",
              "    </tr>\n",
              "  </tbody>\n",
              "</table>\n",
              "</div>"
            ],
            "text/plain": [
              "      age  gender  height region  ...           happy financial politics  global\n",
              "699  36.0  Female   177.0  e5543  ...  Strongly Agree     Agree      5.0      no\n",
              "700  22.0     NaN  1800.0    NaN  ...             NaN       NaN      NaN     NaN\n",
              "\n",
              "[2 rows x 9 columns]"
            ]
          },
          "metadata": {
            "tags": []
          },
          "execution_count": 6
        }
      ]
    },
    {
      "cell_type": "markdown",
      "metadata": {
        "id": "_rTEuOufo8UT"
      },
      "source": [
        "📚 QUESTION **D**\n",
        "\n",
        "##### **D.** Calculate the measures of location on this dataset with one outlier (e.g. `df_outlier`). How do these values compare to the measures of location for the data without outliers? Which measures of location are robust to outliers?"
      ]
    },
    {
      "cell_type": "code",
      "metadata": {
        "id": "5aeDBER_pFs6"
      },
      "source": [
        "from scipy import stats\n",
        "print(\"Minimum height:    \", #insert your code here, #insert your code here)\n",
        "print(\"Maximum height:    \", #insert your code here, #insert your code here)\n",
        "print(\"25th percentile:   \", #insert your code here, #insert your code here)\n",
        "print(\"Median:            \", #insert your code here, #insert your code here)\n",
        "print(\"75th percentile:   \", #insert your code here, #insert your code here)\n",
        "print(\"Mode height:       \", #insert your code here, #insert your code here)\n",
        "print(\"Mean height:       \", #insert your code here, #insert your code here)\n",
        "print(\"Variance:          \", #insert your code here, #insert your code here)\n",
        "print(\"Standard deviation:\", #insert your code here, #insert your code here)"
      ],
      "execution_count": null,
      "outputs": []
    },
    {
      "cell_type": "markdown",
      "metadata": {
        "id": "S_bnBmkpjd-y"
      },
      "source": [
        "---\n",
        "## Annex: More information"
      ]
    },
    {
      "cell_type": "markdown",
      "metadata": {
        "id": "_zbC5_uAKJG2"
      },
      "source": [
        "### Research Project specifications\n",
        "\n",
        "\n",
        "![](https://www.caaap.org.pe/wp-content/uploads/2017/11/AsambleaGTANW_Ago2017.jpg)\n",
        "\n",
        "| Category            | Information |\n",
        "| ---------------------- | ------------ |\n",
        "| Research objective(s):        | Globalization and its impact on indigenous culture         |\n",
        "| Research question(s): | Does globalization help or hurt Wampis indigenous?          |\n",
        "| Data collection methods:       | Individual survey          |\n",
        "| Region:      | South America          |\n",
        "|Country: | Peru |\n",
        "| Coverage:   | Several villages of Wampis Nation          |"
      ]
    },
    {
      "cell_type": "markdown",
      "metadata": {
        "id": "a8_9Q8gCyOGB"
      },
      "source": [
        "### Wampis Dataset description\n",
        "| file                |Name| Observations (rows) | Variables (cols) |\n",
        "----------------------------------------------------------------------------------------------------- |--| ----- | ------- |\n",
        "| [GlobalWampis.csv](https://maastrichtuniversity-ids-open.s3.eu-central-1.amazonaws.com/global-studies/GlobalWampis.csv) |Wampis Global Dataset| 700   | 9       |\n",
        "\n"
      ]
    },
    {
      "cell_type": "markdown",
      "metadata": {
        "id": "fIfJBFx5vaNU"
      },
      "source": [
        "### Variable's description\n",
        "\n",
        "\n",
        "| Name       | Question                                |\n",
        "| ---------- | --------------------------------------- |\n",
        "| `age`      | How old are you?          |\n",
        "| `gender`   | What is your gender identity?                 |\n",
        "| `height`    | What is your height (in cm)? |\n",
        "| `region`    | Region of the Wampis Nation|\n",
        "| `n.languages`      | How many language you speak at home to your family?                    |\n",
        "| `happy`    | Indicate how strong you agree/disagree with the following sentence: [Q1. I am happy with my life]          |\n",
        "| `financial`    |Indicate how strong you agree/disagree with the following sentence: [Q2. I am satisfied with the financial situation of my household]          |\n",
        "| `politics`    |How interested would you say you are in politics?|\n",
        "| `global`    |Do you think globalization process helps your community?|"
      ]
    },
    {
      "cell_type": "markdown",
      "metadata": {
        "id": "G1wuiWqGkkMC"
      },
      "source": [
        "### Getting Global Wampis dataset into python\n",
        "The first two lines of code we write will allow us to get our data set into Python and our Google Colab Notebook so that we can start working with it."
      ]
    },
    {
      "cell_type": "code",
      "metadata": {
        "id": "ie-psmlqk0zz",
        "colab": {
          "base_uri": "https://localhost:8080/",
          "height": 111
        },
        "outputId": "dc80f5e5-778c-40bb-9b1b-b5ab2233c066"
      },
      "source": [
        "import pandas as pd\n",
        "url = 'https://maastrichtuniversity-ids-open.s3.eu-central-1.amazonaws.com/global-studies/GlobalWampis.csv'\n",
        "df = pd.read_csv(url)\n",
        "# print first 2 observations\n",
        "df.head(2)"
      ],
      "execution_count": null,
      "outputs": [
        {
          "output_type": "execute_result",
          "data": {
            "text/html": [
              "<div>\n",
              "<style scoped>\n",
              "    .dataframe tbody tr th:only-of-type {\n",
              "        vertical-align: middle;\n",
              "    }\n",
              "\n",
              "    .dataframe tbody tr th {\n",
              "        vertical-align: top;\n",
              "    }\n",
              "\n",
              "    .dataframe thead th {\n",
              "        text-align: right;\n",
              "    }\n",
              "</style>\n",
              "<table border=\"1\" class=\"dataframe\">\n",
              "  <thead>\n",
              "    <tr style=\"text-align: right;\">\n",
              "      <th></th>\n",
              "      <th>age</th>\n",
              "      <th>gender</th>\n",
              "      <th>height</th>\n",
              "      <th>region</th>\n",
              "      <th>n.languages</th>\n",
              "      <th>happy</th>\n",
              "      <th>financial</th>\n",
              "      <th>politics</th>\n",
              "      <th>global</th>\n",
              "    </tr>\n",
              "  </thead>\n",
              "  <tbody>\n",
              "    <tr>\n",
              "      <th>0</th>\n",
              "      <td>34.0</td>\n",
              "      <td>Male</td>\n",
              "      <td>186</td>\n",
              "      <td>e4435</td>\n",
              "      <td>1.0</td>\n",
              "      <td>Strongly Agree</td>\n",
              "      <td>Strongly Agree</td>\n",
              "      <td>2.0</td>\n",
              "      <td>yes</td>\n",
              "    </tr>\n",
              "    <tr>\n",
              "      <th>1</th>\n",
              "      <td>34.0</td>\n",
              "      <td>Male</td>\n",
              "      <td>157</td>\n",
              "      <td>e5442</td>\n",
              "      <td>2.0</td>\n",
              "      <td>Strongly Agree</td>\n",
              "      <td>Strongly Agree</td>\n",
              "      <td>3.0</td>\n",
              "      <td>yes</td>\n",
              "    </tr>\n",
              "  </tbody>\n",
              "</table>\n",
              "</div>"
            ],
            "text/plain": [
              "    age gender  height region  ...           happy       financial politics  global\n",
              "0  34.0   Male     186  e4435  ...  Strongly Agree  Strongly Agree      2.0     yes\n",
              "1  34.0   Male     157  e5442  ...  Strongly Agree  Strongly Agree      3.0     yes\n",
              "\n",
              "[2 rows x 9 columns]"
            ]
          },
          "metadata": {
            "tags": []
          },
          "execution_count": 3
        }
      ]
    },
    {
      "cell_type": "markdown",
      "metadata": {
        "id": "2cn9zBD1cBSz"
      },
      "source": [
        "### Finding the Mode with Python\n",
        "\n",
        "Unfortunately calculating the mode is not supported by the in-built numpy library and that is why this code is visible. We need to install ```from scipy import stats```. See [here](https://docs.scipy.org/doc/scipy/reference/generated/scipy.stats.mode.html) for further information.\n"
      ]
    },
    {
      "cell_type": "code",
      "metadata": {
        "id": "WXEnuUxygVrh",
        "colab": {
          "base_uri": "https://localhost:8080/"
        },
        "outputId": "1f09b175-f5ad-4950-a1bb-7c8b05d33fc5"
      },
      "source": [
        "# example: find the mode in age variable\n",
        "from scipy import stats\n",
        "array = df['age'] # create 3 numbers\n",
        "print(array)\n",
        "print(stats.mode(array)) # calculate the mode"
      ],
      "execution_count": null,
      "outputs": [
        {
          "output_type": "stream",
          "text": [
            "0      34.0\n",
            "1      34.0\n",
            "2      27.0\n",
            "3      35.0\n",
            "4      34.0\n",
            "       ... \n",
            "695    26.0\n",
            "696    38.0\n",
            "697    34.0\n",
            "698    23.0\n",
            "699    36.0\n",
            "Name: age, Length: 700, dtype: float64\n",
            "ModeResult(mode=array([29.]), count=array([36]))\n"
          ],
          "name": "stdout"
        }
      ]
    }
  ]
}