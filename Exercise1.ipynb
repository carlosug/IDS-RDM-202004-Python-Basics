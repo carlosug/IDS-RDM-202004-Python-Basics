{
  "nbformat": 4,
  "nbformat_minor": 0,
  "metadata": {
    "colab": {
      "name": "Exercise1.ipynb",
      "provenance": [],
      "authorship_tag": "ABX9TyOJ8+gDvdHPPKk6BANWmlKU",
      "include_colab_link": true
    },
    "kernelspec": {
      "name": "python3",
      "display_name": "Python 3"
    }
  },
  "cells": [
    {
      "cell_type": "markdown",
      "metadata": {
        "id": "view-in-github",
        "colab_type": "text"
      },
      "source": [
        "<a href=\"https://colab.research.google.com/github/carlosug/IDS-RDM-202004-Python-Basics/blob/master/Exercise1.ipynb\" target=\"_parent\"><img src=\"https://colab.research.google.com/assets/colab-badge.svg\" alt=\"Open In Colab\"/></a>"
      ]
    },
    {
      "cell_type": "markdown",
      "metadata": {
        "id": "XW3IszWMvRuE",
        "colab_type": "text"
      },
      "source": [
        "# Exercises\n",
        "\n",
        "> Welcome to your first set of Python coding problems! </br> </br> \n",
        "If this is your first time using Kaggle Notebooks, welcome!</br> </br> \n",
        "Notebooks (e.g. Google Colab or Jupyer) are composed of blocks (called \"cells\") of text and code. Each of these is editable, though you'll mainly be editing the code cells to answer some questions.</br> </br> \n",
        "To get started, try running the code cell below (by pressing the ► button, or clicking on the cell and pressing ctrl+enter on your keyboard).</br> </br> "
      ]
    },
    {
      "cell_type": "code",
      "metadata": {
        "id": "7-c_JO6lvtVe",
        "colab_type": "code",
        "colab": {}
      },
      "source": [
        "print(\"You've successfully run some Python code\")\n",
        "print(\"Congrats!\")"
      ],
      "execution_count": null,
      "outputs": []
    },
    {
      "cell_type": "markdown",
      "metadata": {
        "id": "j9vEUJQ1ycDj",
        "colab_type": "text"
      },
      "source": [
        "## 0.\n",
        "This is a silly question intended as an introduction to the format we use for hands-on exercises throughout all Kaggle courses.\n",
        "\n",
        "*What is your favorite color? *\n",
        "\n",
        "To complete this question, create a variable called color in the cell below with an appropriate value."
      ]
    },
    {
      "cell_type": "code",
      "metadata": {
        "id": "Clk1OY13ykYH",
        "colab_type": "code",
        "colab": {}
      },
      "source": [
        "# create a variable called color with an appropriate value on the line below\n",
        "# (Remember, strings in Python must be enclosed in 'single' or \"double\" quotes)\n",
        "# INSERT HERE YOUR CODE"
      ],
      "execution_count": null,
      "outputs": []
    },
    {
      "cell_type": "markdown",
      "metadata": {
        "id": "8CC5D0bzy6T8",
        "colab_type": "text"
      },
      "source": [
        "## 1. \n",
        "\n",
        "Complete the code below. In case it's helpful, here is the table of available arithmetic operations:\n",
        "\n",
        "Complete the code below. In case it's helpful, here is the table of available arithmetic operations:\n",
        "\n",
        "\n",
        "\n",
        "| Operator     | Name           | Description                                            |\n",
        "|--------------|----------------|--------------------------------------------------------|\n",
        "| ``a + b``    | Addition       | Sum of ``a`` and ``b``                                 |\n",
        "| ``a - b``    | Subtraction    | Difference of ``a`` and ``b``                          |\n",
        "| ``a * b``    | Multiplication | Product of ``a`` and ``b``                             |\n",
        "| ``a / b``    | True division  | Quotient of ``a`` and ``b``                            |\n",
        "| ``a // b``   | Floor division | Quotient of ``a`` and ``b``, removing fractional parts |\n",
        "| ``a % b``    | Modulus        | Integer remainder after division of ``a`` by ``b``     |\n",
        "| ``a ** b``   | Exponentiation | ``a`` raised to the power of ``b``                     |\n",
        "| ``-a``       | Negation       | The negative of ``a``                                  |"
      ]
    },
    {
      "cell_type": "code",
      "metadata": {
        "id": "HiJ3Gc5jzDui",
        "colab_type": "code",
        "colab": {}
      },
      "source": [
        "pi = 3.14159 # approximate\n",
        "diameter = 3\n",
        "\n",
        "# Create a variable called 'radius' equal to half the diameter\n",
        "## _____ ##\n",
        "\n",
        "# Create a variable called 'area', using the formula for the area of a circle: pi times the radius squared\n",
        "## ____ ##"
      ],
      "execution_count": null,
      "outputs": []
    },
    {
      "cell_type": "markdown",
      "metadata": {
        "id": "R5TZ4dywze4s",
        "colab_type": "text"
      },
      "source": [
        "## 2.\n",
        "\n",
        "Add code to the following cell to swap variables `a` and `b` (so that `a` refers to the object previously referred to by `b` and vice versa)."
      ]
    },
    {
      "cell_type": "code",
      "metadata": {
        "id": "fnvHS9Y8z-Yl",
        "colab_type": "code",
        "colab": {}
      },
      "source": [
        "########### Setup code - don't touch this part ######################\n",
        "# If you're curious, these are examples of lists. We'll talk about \n",
        "# them in depth a few lessons from now. For now, just know that they're\n",
        "# yet another type of Python object, like int or float.\n",
        "a = [1, 2, 3]\n",
        "b = [3, 2, 1]\n",
        "q2.store_original_ids()\n",
        "######################################################################\n",
        "\n",
        "# Your code goes here. Swap the values to which a and b refer.\n",
        "# If you get stuck, you can always uncomment one or both of the lines in\n",
        "# the next cell for a hint, or to peek at the solution.\n",
        "\n",
        "######################################################################"
      ],
      "execution_count": null,
      "outputs": []
    },
    {
      "cell_type": "markdown",
      "metadata": {
        "id": "MgZP9wIc0I2y",
        "colab_type": "text"
      },
      "source": [
        "## 3.\n",
        "\n",
        "**a) Add parentheses to the following expression so that it evaluates to 1.**"
      ]
    },
    {
      "cell_type": "code",
      "metadata": {
        "id": "tgrrR3MT0dDB",
        "colab_type": "code",
        "colab": {}
      },
      "source": [
        "55 - 53 // 2"
      ],
      "execution_count": null,
      "outputs": []
    },
    {
      "cell_type": "markdown",
      "metadata": {
        "id": "_RzRwCGJ0kes",
        "colab_type": "text"
      },
      "source": [
        "<small>Questions, like this one, marked a spicy pepper are a bit harder.</small>\n",
        "\n",
        "b) <span title=\"A bit spicy\" style=\"color: darkgreen \">🌶️</span> Add parentheses to the following expression so that it evaluates to 0"
      ]
    },
    {
      "cell_type": "code",
      "metadata": {
        "id": "NpbVFo460Q6W",
        "colab_type": "code",
        "colab": {}
      },
      "source": [
        "8 - 3 * 2 - 1 + 1"
      ],
      "execution_count": null,
      "outputs": []
    },
    {
      "cell_type": "markdown",
      "metadata": {
        "id": "g4LEW_kM0wJc",
        "colab_type": "text"
      },
      "source": [
        "## 4.\n",
        "Kody, Ana and Wendy have agreed to pool their chocolats and split it evenly among themselves. For the sake of their friendship, any chocolat left over will be smashed. For example, if they collectively bring home 91 chocolats, they'll take 30 each and smash 1.\n",
        "Write an arithmetic expression below to calculate how many chocolats they must smash for a given haul."
      ]
    },
    {
      "cell_type": "code",
      "metadata": {
        "id": "n35S-0zJ1OEM",
        "colab_type": "code",
        "colab": {}
      },
      "source": [
        "Kody_chocolats = 121\n",
        "Wendy_chocolats = 77\n",
        "Ana_chocolats = 109\n",
        "\n",
        "# Your code goes here! Replace the right-hand side of this assignment with an expression\n",
        "# involving Kody_chocolats, Wendy_chocolats, and Ana_chocolats\n",
        "to_smash = -1"
      ],
      "execution_count": null,
      "outputs": []
    },
    {
      "cell_type": "markdown",
      "metadata": {
        "id": "ILaeQnEz2TC1",
        "colab_type": "text"
      },
      "source": [
        "# Keep Going\n",
        "\n",
        "Next up, you'll **[learn to write new functions and understand functions others write](https://www.kaggle.com/colinmorris/functions-and-getting-help)**. This will make you at least 10 times more productive as a Python programmer. "
      ]
    }
  ]
}